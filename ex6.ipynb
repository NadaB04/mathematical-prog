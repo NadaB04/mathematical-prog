{
  "nbformat": 4,
  "nbformat_minor": 0,
  "metadata": {
    "colab": {
      "name": "ex6.ipynb",
      "provenance": [],
      "collapsed_sections": []
    },
    "kernelspec": {
      "name": "python3",
      "display_name": "Python 3"
    },
    "language_info": {
      "name": "python"
    }
  },
  "cells": [
    {
      "cell_type": "code",
      "metadata": {
        "colab": {
          "base_uri": "https://localhost:8080/"
        },
        "id": "l35z-eUI4KzC",
        "outputId": "3119a9d3-e8e3-408e-d2c6-94af20d30be5"
      },
      "source": [
        "def str_to_list_of_ints(grades):\n",
        "  grades_lst = grades.split(\",\")\n",
        "  for i in range(len(grades_lst)):\n",
        "    grades_lst[i] = int(grades_lst[i])\n",
        "  return grades_lst\n",
        "\n",
        "def uniques(a_list):\n",
        " uniques = []\n",
        " for x in a_list:\n",
        "   if x in uniques:\n",
        "     continue\n",
        "   uniques.append(x)\n",
        " return uniques\n",
        "\n",
        "def uniques_with_counts(a_list):\n",
        "    ''' returns list of tuples containing a_list items and thier counts '''\n",
        "    uniqs = uniques(a_list)\n",
        "    temp_counter = 0\n",
        "    uniqscounts = []\n",
        "    for ch in uniqs:\n",
        "      for i in range(len(a_list)):\n",
        "        if a_list[i] == ch:\n",
        "          temp_counter += 1\n",
        "      uniqscounts.append((ch, temp_counter))\n",
        "      temp_counter = 0\n",
        "    return uniqscounts\n",
        "\n",
        "\n",
        "\n",
        "def print_histogram(a_list):\n",
        "    ''' prints sorterd items in a_list one per row with *s coresponding to number of times item in list '''\n",
        "    uniqscounts = uniques_with_counts(a_list)\n",
        "    for tup in uniqscounts:\n",
        "      print(f'{str(tup[0])}  ' , end = '')\n",
        "      for i in range(tup[1] - 1):\n",
        "        print('* ', end = '')\n",
        "      print('*')\n",
        "\n",
        "\n",
        "\n",
        "#grades = [98,100,65,80,80,98,90,90,50,95,88,70,100,90,60,75,90,60,100,100,90,100,100,70,100,55,90,70,98,100,70,100,90]\n",
        "#print (uniques_with_counts(grades))\n",
        "#print_histogram(grades)\n",
        "\n",
        "l = str_to_list_of_ints(input(\"Input a comma seperated list of integers: \"))\n",
        "if l:\n",
        "  print (uniques_with_counts(l))\n",
        "  print_histogram(l)\n",
        "else:\n",
        "  print (\"There was a problem in your input\")\n"
      ],
      "execution_count": null,
      "outputs": [
        {
          "output_type": "stream",
          "text": [
            "Input a comma seperated list of integers: 98,100,65,80,80,98,90,90,50,95,88,70,100,90,60,75,90,60,100,100,90,100,100,70,100,55,90,70,98,100,70,100,90\n",
            "[(98, 3), (100, 9), (65, 1), (80, 2), (90, 7), (50, 1), (95, 1), (88, 1), (70, 4), (60, 2), (75, 1), (55, 1)]\n",
            "98  * * *\n",
            "100  * * * * * * * * *\n",
            "65  *\n",
            "80  * *\n",
            "90  * * * * * * *\n",
            "50  *\n",
            "95  *\n",
            "88  *\n",
            "70  * * * *\n",
            "60  * *\n",
            "75  *\n",
            "55  *\n"
          ],
          "name": "stdout"
        }
      ]
    },
    {
      "cell_type": "code",
      "metadata": {
        "id": "Tpc7_5V42Dxy",
        "colab": {
          "base_uri": "https://localhost:8080/"
        },
        "outputId": "3e96556e-992f-4a2b-e391-f5bf2cc39b93"
      },
      "source": [
        "def f1(x):\n",
        "    return x ** 4 * (1 - x) ** 4 / (1 + x ** 2)\n",
        "\n",
        "def f2(x):\n",
        "    e = 2.718281828459045\n",
        "    return e ** -x\n",
        "\n",
        "def integral(f, interval, n):\n",
        "    ''' computes estimate of integral of f over interval based on deviding interval into n trapeziums '''\n",
        "    if not (callable(f) and isinstance(interval, tuple) and isinstance(n, int)):\n",
        "        ## callable(f) is true if f is a function. isinstance(interval, tuple) is true if interval is of type tuple\n",
        "        return\n",
        "    if not (len(interval)==2 and isinstance(interval[0], float) and isinstance(interval[1], float) \\\n",
        "            and interval[0]<interval[1]):\n",
        "        return\n",
        "    if not n>0:\n",
        "        return\n",
        "    \n",
        "    ### your code should go here\n",
        "    h=(interval[1]-interval[0])/n\n",
        "    def apply (f, interval):\n",
        "        return[f(item) for item in interval]\n",
        "    fx=apply(f, interval)\n",
        "    part1=h/2*sum(fx)\n",
        "    #calculating second part of function\n",
        "    sigma=0\n",
        "    for i in range (1,n):\n",
        "        sigma+=f(interval[0]+i*h)\n",
        "    part2=h*sigma\n",
        "    end=part1+part2\n",
        "    return end\n",
        "    ### end of your code\n",
        "\n",
        "print(integral(lambda x : x, (1.0, 2.0), 100))   ## should be close to 1.5\n",
        "\n"
      ],
      "execution_count": 2,
      "outputs": [
        {
          "output_type": "stream",
          "text": [
            "1.4999999999999996\n"
          ],
          "name": "stdout"
        }
      ]
    },
    {
      "cell_type": "markdown",
      "metadata": {
        "id": "vj6gYk0tff0W"
      },
      "source": [
        "מגיש: נדב בנאי\n",
        "ת.ז: 326277910\n",
        "קבוצת תרגול: אלכסנדרה ליטינסקי"
      ]
    }
  ]
}