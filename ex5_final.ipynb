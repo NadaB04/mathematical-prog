{
  "nbformat": 4,
  "nbformat_minor": 0,
  "metadata": {
    "colab": {
      "name": "Untitled0.ipynb",
      "provenance": [],
      "collapsed_sections": []
    },
    "kernelspec": {
      "name": "python3",
      "display_name": "Python 3"
    },
    "language_info": {
      "name": "python"
    }
  },
  "cells": [
    {
      "cell_type": "code",
      "metadata": {
        "colab": {
          "base_uri": "https://localhost:8080/"
        },
        "id": "DBZt5VFT2d2K",
        "outputId": "5df9ac2a-8f70-4fb7-e159-100e86b552dd"
      },
      "source": [
        "    newlist = input(\"Please enter a list of positive integers separated by comma:\").replace(\" \", \"\").split(\",\")\n",
        "    print(newlist)\n",
        "    numbers = []\n",
        "    for i in range(len(newlist)):\n",
        "        if newlist[i].isdigit():\n",
        "            numbers.append(int(newlist[i]))\n",
        "\n",
        "    if len(numbers) == 0:\n",
        "        print(f'The top 5 values are: []')\n",
        "    elif len(numbers) < 5:\n",
        "        print(f'The top 5 values are: {str(numbers)}')\n",
        "    else:\n",
        "        numbers = sorted(numbers)\n",
        "        print(f'The top 5 values are: {str(numbers[-5:])}')"
      ],
      "execution_count": 1,
      "outputs": [
        {
          "output_type": "stream",
          "text": [
            "Please enter a list of positive integers separated by comma:1, 2, 3\n",
            "['1', '2', '3']\n",
            "The top 5 values are: [1, 2, 3]\n"
          ],
          "name": "stdout"
        }
      ]
    },
    {
      "cell_type": "code",
      "metadata": {
        "colab": {
          "base_uri": "https://localhost:8080/"
        },
        "id": "I-r4jae_cTFJ",
        "outputId": "72567982-fc93-4707-a792-9575fcdcbcbf"
      },
      "source": [
        "list1 = input(\"Enter list1: \").replace(\" \", \"\").split(\",\")\n",
        "list2 = input(\"Enter list2: \").replace(\" \", \"\").split(\",\")\n",
        "list1_is_k = True\n",
        "list2_is_k = True\n",
        "temp_val = 0\n",
        "\n",
        "for i in range(len(list1)):\n",
        "  if list1[i].count(\".\") <= 1:\n",
        "    temp_val = list1[i].replace(\".\", \"\")\n",
        "    if ((temp_val.count(\"-\") == 0 and temp_val.isnumeric()) or (temp_val.count(\"-\") == 1 and temp_val[0] == \"-\" and temp_val.replace(\"-\",\"\").isnumeric())):\n",
        "      list1[i] = float(list1[i])\n",
        "  else:\n",
        "    list1_is_k = False\n",
        "    print(\"Sorry - was not able to calculate the correlation\")\n",
        "    break\n",
        "\n",
        "if list1_is_k:\n",
        "  for i in range(len(list2)):\n",
        "    if list2[i].count(\".\") <= 1: \n",
        "      temp_val = list2[i].replace(\".\", \"\")\n",
        "      if ((temp_val.count(\"-\") == 0 and temp_val.isnumeric()) or (temp_val.count(\"-\") == 1 and temp_val[0] == \"-\" and temp_val.replace(\"-\",\"\").isnumeric())):\n",
        "        list2[i] = float(list2[i])\n",
        "    else:\n",
        "      list2_is_k = False\n",
        "      print(\"Sorry - was not able to calculate the correlation\")\n",
        "      break\n",
        "\n",
        "if list1_is_k and list2_is_k and len(list1) == len(list2):\n",
        "  print(list1)\n",
        "  print(list2)\n",
        "  avg1 = (1/len(list1)) * sum((float(n) for n in list1))\n",
        "  avg2 = (1/len(list2)) * sum((float(n) for n in list2))\n",
        "  covar = sum(((float(list2[i])-avg1)*(float(list2[i])-avg2) for i in range(len(list1))))\n",
        "  var1 = pow(sum(((float(x) - avg1)**2 for x in list1)) , 0.5)\n",
        "  var2 = pow(sum(((float(y) - avg2)**2 for y in list2)) , 0.5)\n",
        "  print(f'The correlation between the lists is: {str(covar/(var1*var2))}')"
      ],
      "execution_count": 20,
      "outputs": [
        {
          "output_type": "stream",
          "text": [
            "Enter list1: 1,2,34\n",
            "Enter list2: 1,2,3\n",
            "[1.0, 2.0, 34.0]\n",
            "[1.0, 2.0, 3.0]\n",
            "The correlation between the lists is: 0.053274960171432684\n"
          ],
          "name": "stdout"
        }
      ]
    },
    {
      "cell_type": "markdown",
      "metadata": {
        "id": "30QAhCJW67sz"
      },
      "source": [
        "# נדב בנאי\n",
        "# 326277910 "
      ]
    }
  ]
}