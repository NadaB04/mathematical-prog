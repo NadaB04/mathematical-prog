{
  "nbformat": 4,
  "nbformat_minor": 0,
  "metadata": {
    "colab": {
      "name": "ex11.ipynb",
      "provenance": []
    },
    "kernelspec": {
      "name": "python3",
      "display_name": "Python 3"
    },
    "language_info": {
      "name": "python"
    }
  },
  "cells": [
    {
      "cell_type": "markdown",
      "metadata": {
        "id": "8z7OxjtJ-phy"
      },
      "source": [
        "מגיש: נדב בנאי\n",
        "ת.ז: 326277910\n",
        "קבוצת תרגול: אלכסנדרה ליטינסקי"
      ]
    },
    {
      "cell_type": "code",
      "metadata": {
        "colab": {
          "base_uri": "https://localhost:8080/",
          "height": 363
        },
        "id": "2ArDh0afCkeo",
        "outputId": "e1b2ef9d-aa7c-4555-daa3-89516585a11e"
      },
      "source": [
        "def str_to_list_of_ints(grades): # let grades be from 'a' len    O(a + a*(1+N)) = O(a)\n",
        "  grades_lst = grades.split(\",\") #O(a) going through 'grades'\n",
        "  for i in range(len(grades_lst)): #O(a)\n",
        "    grades_lst[i] = int(grades_lst[i]) #O(1+len(grades_lst[i])) = basically o(1) as the len is fixed and final \n",
        "  return grades_lst #O(a)\n",
        "\n",
        "def uniques(a_list): # o(1+n^2+1) = o(n^2)\n",
        " uniques = [] #O(1)\n",
        " for x in a_list: #o(n)\n",
        "   if x in uniques: #o(n)\n",
        "     continue#o(0)\n",
        "   uniques.append(x) #o(1)\n",
        " return uniques #o(0)\n",
        "\n",
        "def uniques_with_counts(a_list): #o(2 + n + n^2 + (n*2)*(n*4)) = o(n^2)\n",
        "    ''' returns list of tuples containing a_list items and thier counts '''\n",
        "    uniqs = uniques(a_list) #o(n+n^2)\n",
        "    temp_counter = 0 #o(1)\n",
        "    uniqscounts = []#o(1)\n",
        "    for ch in uniqs:#o(n)\n",
        "      for i in range(len(a_list)):#o(n)\n",
        "        if a_list[i] == ch:#o(2)\n",
        "          temp_counter += 1#o(2)\n",
        "      uniqscounts.append((ch, temp_counter))#o(1)\n",
        "      temp_counter = 0 #o(1)\n",
        "    return uniqscounts #o(0)\n",
        "\n",
        "\n",
        "\n",
        "def print_histogram(a_list): #o(n + n^2 +n*(n*2+2+N) ) = o(n^2)\n",
        "    ''' prints sorterd items in a_list one per row with *s coresponding to number of times item in list '''\n",
        "    uniqscounts = uniques_with_counts(a_list) #o(n+n^2)\n",
        "    for tup in uniqscounts: #o(n)\n",
        "      print(f'{str(tup[0])}  ' , end = '')#o(N) N constant - length of the string\n",
        "      for i in range(tup[1] - 1): #o(n) worst case senerio\n",
        "        print('* ', end = '') #o(2)\n",
        "      print('*') #o(1)\n",
        "\n",
        "\n",
        "\n",
        "#grades = [98,100,65,80,80,98,90,90,50,95,88,70,100,90,60,75,90,60,100,100,90,100,100,70,100,55,90,70,98,100,70,100,90]\n",
        "#print (uniques_with_counts(grades))\n",
        "#print_histogram(grades)\n",
        "\n",
        "l = str_to_list_of_ints(input(\"Input a comma seperated list of integers: \")) #o(n)\n",
        "if l:\n",
        "  print (uniques_with_counts(l)) #o(n^2)\n",
        "  print_histogram(l)#o(n^2)\n",
        "else:\n",
        "  print (\"There was a problem in your input\") #o(1)\n",
        "#o(n+1+2*(n^2)) = O(n^2)\n",
        "\n",
        "\n",
        "\n",
        "#O(n^2)"
      ],
      "execution_count": 2,
      "outputs": [
        {
          "output_type": "stream",
          "text": [
            "Input a comma seperated list of integers: 1, a, 3\n"
          ],
          "name": "stdout"
        },
        {
          "output_type": "error",
          "ename": "ValueError",
          "evalue": "ignored",
          "traceback": [
            "\u001b[0;31m---------------------------------------------------------------------------\u001b[0m",
            "\u001b[0;31mValueError\u001b[0m                                Traceback (most recent call last)",
            "\u001b[0;32m<ipython-input-2-8d4453f126db>\u001b[0m in \u001b[0;36m<module>\u001b[0;34m()\u001b[0m\n\u001b[1;32m     43\u001b[0m \u001b[0;31m#print_histogram(grades)\u001b[0m\u001b[0;34m\u001b[0m\u001b[0;34m\u001b[0m\u001b[0;34m\u001b[0m\u001b[0m\n\u001b[1;32m     44\u001b[0m \u001b[0;34m\u001b[0m\u001b[0m\n\u001b[0;32m---> 45\u001b[0;31m \u001b[0ml\u001b[0m \u001b[0;34m=\u001b[0m \u001b[0mstr_to_list_of_ints\u001b[0m\u001b[0;34m(\u001b[0m\u001b[0minput\u001b[0m\u001b[0;34m(\u001b[0m\u001b[0;34m\"Input a comma seperated list of integers: \"\u001b[0m\u001b[0;34m)\u001b[0m\u001b[0;34m)\u001b[0m \u001b[0;31m#o(n)\u001b[0m\u001b[0;34m\u001b[0m\u001b[0;34m\u001b[0m\u001b[0m\n\u001b[0m\u001b[1;32m     46\u001b[0m \u001b[0;32mif\u001b[0m \u001b[0ml\u001b[0m\u001b[0;34m:\u001b[0m\u001b[0;34m\u001b[0m\u001b[0;34m\u001b[0m\u001b[0m\n\u001b[1;32m     47\u001b[0m   \u001b[0mprint\u001b[0m \u001b[0;34m(\u001b[0m\u001b[0muniques_with_counts\u001b[0m\u001b[0;34m(\u001b[0m\u001b[0ml\u001b[0m\u001b[0;34m)\u001b[0m\u001b[0;34m)\u001b[0m\u001b[0;34m\u001b[0m\u001b[0;34m\u001b[0m\u001b[0m\n",
            "\u001b[0;32m<ipython-input-2-8d4453f126db>\u001b[0m in \u001b[0;36mstr_to_list_of_ints\u001b[0;34m(grades)\u001b[0m\n\u001b[1;32m      2\u001b[0m   \u001b[0mgrades_lst\u001b[0m \u001b[0;34m=\u001b[0m \u001b[0mgrades\u001b[0m\u001b[0;34m.\u001b[0m\u001b[0msplit\u001b[0m\u001b[0;34m(\u001b[0m\u001b[0;34m\",\"\u001b[0m\u001b[0;34m)\u001b[0m \u001b[0;31m#O(a) going through 'grades'\u001b[0m\u001b[0;34m\u001b[0m\u001b[0;34m\u001b[0m\u001b[0m\n\u001b[1;32m      3\u001b[0m   \u001b[0;32mfor\u001b[0m \u001b[0mi\u001b[0m \u001b[0;32min\u001b[0m \u001b[0mrange\u001b[0m\u001b[0;34m(\u001b[0m\u001b[0mlen\u001b[0m\u001b[0;34m(\u001b[0m\u001b[0mgrades_lst\u001b[0m\u001b[0;34m)\u001b[0m\u001b[0;34m)\u001b[0m\u001b[0;34m:\u001b[0m \u001b[0;31m#O(a)\u001b[0m\u001b[0;34m\u001b[0m\u001b[0;34m\u001b[0m\u001b[0m\n\u001b[0;32m----> 4\u001b[0;31m     \u001b[0mgrades_lst\u001b[0m\u001b[0;34m[\u001b[0m\u001b[0mi\u001b[0m\u001b[0;34m]\u001b[0m \u001b[0;34m=\u001b[0m \u001b[0mint\u001b[0m\u001b[0;34m(\u001b[0m\u001b[0mgrades_lst\u001b[0m\u001b[0;34m[\u001b[0m\u001b[0mi\u001b[0m\u001b[0;34m]\u001b[0m\u001b[0;34m)\u001b[0m \u001b[0;31m#O(1+N) while N being a constant base for the base transmission\u001b[0m\u001b[0;34m\u001b[0m\u001b[0;34m\u001b[0m\u001b[0m\n\u001b[0m\u001b[1;32m      5\u001b[0m   \u001b[0;32mreturn\u001b[0m \u001b[0mgrades_lst\u001b[0m \u001b[0;31m#O(a)\u001b[0m\u001b[0;34m\u001b[0m\u001b[0;34m\u001b[0m\u001b[0m\n\u001b[1;32m      6\u001b[0m \u001b[0;34m\u001b[0m\u001b[0m\n",
            "\u001b[0;31mValueError\u001b[0m: invalid literal for int() with base 10: ' a'"
          ]
        }
      ]
    },
    {
      "cell_type": "code",
      "metadata": {
        "id": "FBqbwv__OsYR"
      },
      "source": [
        "def f1(x): # o(4+1+4+1+1+1+2) = O(14) = o(1)   (its written in the example that multiplication and divison are from complexety of o(1))\n",
        "    return x ** 4 * (1 - x) ** 4 / (1 + x ** 2)\n",
        "\n",
        "def f2(x): #o(1)\n",
        "    e = 2.718281828459045\n",
        "    return e ** -x\n",
        "\n",
        "def integral(f, interval, n): #O(n*o(f)) if o(f) >= 1 else O(1)\n",
        "    ''' computes estimate of integral of f over interval based on deviding interval into n trapeziums '''\n",
        "    if not (callable(f) and isinstance(interval, tuple) and isinstance(n, int)):#o(3)\n",
        "        ## callable(f) is true if f is a function. isinstance(interval, tuple) is true if interval is of type tuple\n",
        "        return #o(0)\n",
        "    if not (len(interval)==2 and isinstance(interval[0], float) and isinstance(interval[1], float) \\\n",
        "            and interval[0]<interval[1]):#o(8)\n",
        "        return #o(0)\n",
        "    if not n>0: #o(1)\n",
        "        return #o(0)\n",
        "    \n",
        "\n",
        "    h=(interval[1]-interval[0])/n #o(4)\n",
        "    def apply (f, interval): #o(n*o(f))\n",
        "        return[f(item) for item in interval] #o(n*o(f))\n",
        "    fx=apply(f, interval)#o(1+n*o(f))\n",
        "    part1=h/2*sum(fx) #o(1+1+1+n)\n",
        "\n",
        "    sigma=0 #o(0)\n",
        "    for i in range (1,n): #o(n)\n",
        "        sigma+=f(interval[0]+i*h) #o(1+1+o(f) +1+1)\n",
        "    part2=h*sigma #o(1+1)\n",
        "    end=part1+part2 #o(1+1)\n",
        "    return end #o(0)\n",
        "\n",
        "\n",
        "  \n"
      ],
      "execution_count": null,
      "outputs": []
    },
    {
      "cell_type": "code",
      "metadata": {
        "id": "2_yTCdTHSTbW"
      },
      "source": [
        "def is_palindrome(letters): #T(n)\n",
        "  if len(letters) == 0: #o(2)\n",
        "    return True #o(0)\n",
        "  elif letters[0] == letters[-1]: #o(3)\n",
        "    return is_palindrome(letters[1:len(letters)-1])#o(T(n-2))\n",
        "  else:\n",
        "    return False #o(0)\n",
        "\n",
        "#T(n) = 2 + 3 + T(n-2) = 5+5+5+...(n/2 if n is even and (n+1)/2 if its odd) + T(0) = 5+5+5+...(n/2 if n is even and (n+1)/2 if its odd) + 2 = 5*(n/2 if n is even and (n+1)/2 if its odd) + 2 = n\n",
        "#O(n) = n"
      ],
      "execution_count": null,
      "outputs": []
    },
    {
      "cell_type": "code",
      "metadata": {
        "colab": {
          "base_uri": "https://localhost:8080/"
        },
        "id": "va6cv_AHVoQQ",
        "outputId": "eecdbee3-8a1b-494f-cd2a-596b6115a1e2"
      },
      "source": [
        "def recursive_power(k, n): #T(n) = 2+T(n-1) = 2+2+2...(n-1 times) +1 = 2*(n-1) + 1 = n\n",
        "  if n == 1: #o(1)\n",
        "    return k #o(0)\n",
        "  else:\n",
        "    return k*recursive_power(k,n-1)#o(1+T(n-1))\n",
        "\n",
        "#O(n)\n",
        "\n",
        "\n",
        "\n",
        "\n",
        "def recursive_power2(k, n): # T(n) = 2*T(n//2) + 1 == nlog(n) כי מתבצע כאן תהליך של חצייה וחיפוש בינארי ולכן נקבל באינדוקציה כי זו הסיבוכיות\n",
        "  if n == 1: #o(1)\n",
        "    return k #o(0)\n",
        "  elif n%2 == 0: #o(1+2)\n",
        "    return recursive_power2(k, n/2)*recursive_power2(k, n/2) #2*T(n/2) + 1\n",
        "  else:\n",
        "    return k*recursive_power2(k, (n-1)/2)*recursive_power2(k, (n-1)/2) # 2*T((n-1)/2) + 1\n",
        "\n",
        "#O(nlog(n))"
      ],
      "execution_count": 14,
      "outputs": [
        {
          "output_type": "execute_result",
          "data": {
            "text/plain": [
              "32"
            ]
          },
          "metadata": {},
          "execution_count": 14
        }
      ]
    },
    {
      "cell_type": "code",
      "metadata": {
        "id": "OzpuSzrrc0Vh"
      },
      "source": [
        "    newlist = input(\"Please enter a list of positive integers separated by comma:\").replace(\" \", \"\").split(\",\") #o(n+n+n)\n",
        "    print(newlist) #o(1)\n",
        "    numbers = [] #o(1)\n",
        "    for i in range(len(newlist)): #o(n)\n",
        "        if newlist[i].isdigit():#o(1+len(nwelist[i]))\n",
        "            numbers.append(int(newlist[i]))#o(1+)#o(1 + len(newlist[i]))\n",
        "\n",
        "    if len(numbers) == 0: #o(1)\n",
        "        print(f'The top 5 values are: []') #o(k) where k is the length of the output string\n",
        "    elif len(numbers) < 5: #o(1)\n",
        "        print(f'The top 5 values are: {str(numbers)}') #o(k + len(str(numbers))) where k is the length of the output string\n",
        "    else:\n",
        "        numbers = sorted(numbers) #o(n + nlog(n))\n",
        "        print(f'The top 5 values are: {str(numbers[-5:])}') #o(k + len(str(numbers[-5:])) where k is the length of the output string\n",
        "\n",
        "#O(2+ 3*n + n*2*(1+len(newlist[i]))  + 2 + n+nlog(n) + o(k + len(str(numbers[-5:])) ) = O(n^2)        len(newlist[i]) could be equal to n\n",
        "\n",
        "#O(n^2)"
      ],
      "execution_count": null,
      "outputs": []
    },
    {
      "cell_type": "code",
      "metadata": {
        "id": "gx6V_ofxgSCs"
      },
      "source": [
        "list1 = input(\"Enter list1: \").replace(\" \", \"\").split(\",\")#o(n+n+n)\n",
        "list2 = input(\"Enter list2: \").replace(\" \", \"\").split(\",\")#o(n+n+n)\n",
        "list1_is_k = True #o(1)\n",
        "list2_is_k = True #o(1)\n",
        "temp_val = 0 #o(1)\n",
        "\n",
        "for i in range(len(list1)): #o(n)\n",
        "  if list1[i].count(\".\") <= 1: #o(2+n)\n",
        "    temp_val = list1[i].replace(\".\", \"\") #o(1+n)\n",
        "    if ((temp_val.count(\"-\") == 0 and temp_val.isnumeric()) or (temp_val.count(\"-\") == 1 and temp_val[0] == \"-\" and temp_val.replace(\"-\",\"\").isnumeric())):#o(1+1+1+1+1+1+1+1 + n*5)\n",
        "      list1[i] = float(list1[i])#o(3+n)\n",
        "  else:\n",
        "    list1_is_k = False#o(1)\n",
        "    print(\"Sorry - was not able to calculate the correlation\")#o(k)\n",
        "    break #o(0)\n",
        "\n",
        "if list1_is_k: #o(1)\n",
        "  for i in range(len(list2)): #o(m)\n",
        "    if list2[i].count(\".\") <= 1: #o(2+m)\n",
        "      temp_val = list2[i].replace(\".\", \"\") #o(1+m)\n",
        "      if ((temp_val.count(\"-\") == 0 and temp_val.isnumeric()) or (temp_val.count(\"-\") == 1 and temp_val[0] == \"-\" and temp_val.replace(\"-\",\"\").isnumeric())): #o(1+1+1+1+1+1+1+1 + m*5)\n",
        "        list2[i] = float(list2[i]) #o(3+m)\n",
        "    else:\n",
        "      list2_is_k = False#o(1)\n",
        "      print(\"Sorry - was not able to calculate the correlation\")#o(k)\n",
        "      break #o(0)\n",
        "\n",
        "if list1_is_k and list2_is_k and len(list1) == len(list2): #o(3)\n",
        "  print(list1)#o(n)\n",
        "  print(list2)#o(m)\n",
        "  avg1 = (1/len(list1)) * sum((float(n) for n in list1))#o(1+1+n^2) \n",
        "  avg2 = (1/len(list2)) * sum((float(n) for n in list2))#o(1+1+m^2) \n",
        "  covar = sum(((float(list2[i])-avg1)*(float(list2[i])-avg2) for i in range(len(list1)))) #o(n+3+2n*k) \n",
        "  var1 = pow(sum(((float(x) - avg1)**2 for x in list1)) , 0.5)#o(n*(n+1+2)+1) \n",
        "  var2 = pow(sum(((float(y) - avg2)**2 for y in list2)) , 0.5)#o(m*(m+1+2)+1) \n",
        "  print(f'The correlation between the lists is: {str(covar/(var1*var2))}') #o((length of the string)+2)\n",
        "\n",
        "\n",
        "#o(6n+3 +2*n*(14+9n) + 3 +2n +4+2n^2+ n+3+2n*k + 2n*(n+3)+1 +2 ) = O(n^2)\n",
        "\n",
        "#O(n^2)"
      ],
      "execution_count": null,
      "outputs": []
    }
  ]
}