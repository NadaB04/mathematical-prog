{
  "nbformat": 4,
  "nbformat_minor": 0,
  "metadata": {
    "colab": {
      "name": "ex8.ipynb",
      "provenance": [],
      "collapsed_sections": []
    },
    "kernelspec": {
      "name": "python3",
      "display_name": "Python 3"
    },
    "language_info": {
      "name": "python"
    }
  },
  "cells": [
    {
      "cell_type": "code",
      "metadata": {
        "colab": {
          "base_uri": "https://localhost:8080/"
        },
        "id": "Ej8YA9NqAj0S",
        "outputId": "456b0839-1d9a-4a9b-93b6-f5f942dd284a"
      },
      "source": [
        "\n",
        "sucess_message = \"Successfully created annual rain data file\"\n",
        "input_file_name = \"ims_data.csv\"\n",
        "output_file_name = \"ims_data_annual.csv\"\n",
        "\n",
        "\n",
        "def line_to_list(line):\n",
        "    ''' converts a csv line (string) to a list of items '''\n",
        "    line = line.rstrip('\\n')\n",
        "    return [s for s in line.split(',')]\n",
        "\n",
        "\n",
        "def write_list_to_csv(f, l):\n",
        "    ''' writes a list of items as line to a csv file hadle f '''\n",
        "    f.write(','.join([str(x) for x in l])+\"\\n\")\n",
        "\n",
        "\n",
        "def read_data(filename):\n",
        "\n",
        "  f = open(filename, 'r')\n",
        "  try:\n",
        "    f.readline()\n",
        "    stations_codes_andyears = []\n",
        "    daily_rain_data = {}\n",
        "    for line in f.readlines():\n",
        "      line = line.strip('\\n').split(',')\n",
        "      mm = float(line[2])\n",
        "      station_code = int(line[0])\n",
        "      station_year = int(line[1].split('/')[2])\n",
        "      if (station_code, station_year) in daily_rain_data.keys():\n",
        "        daily_rain_data[(station_code, station_year)] = (daily_rain_data[(station_code, station_year)][0] + mm, daily_rain_data[(station_code, station_year)][1]+1) \n",
        "      else:\n",
        "        daily_rain_data[(station_code, station_year)] = (mm, 1)\n",
        "    f.close()\n",
        "    return daily_rain_data\n",
        "\n",
        "\n",
        "  except:\n",
        "    print('ValueError while attempting to read the data')\n",
        "    raise ValueError()\n",
        "\n",
        "\n",
        "\n",
        "\n",
        " \n",
        "def write_data(filename, daily_rain_data):\n",
        "  try:\n",
        "    f = open(filename, 'w')\n",
        "    try:\n",
        "      f.write('ID, YEAR, mm, rain_days\\n')\n",
        "      sorted_keys_lst = sorted(daily_rain_data)\n",
        "      for (station_code, station_year) in sorted_keys_lst:\n",
        "        f.write(f'{station_code}, {station_year}, {round(daily_rain_data[(station_code, station_year)][0], 2)}, {daily_rain_data[(station_code, station_year)][1]} \\n')\n",
        "      f.close()\n",
        "    except:\n",
        "      print('ValueError while attempting to write the data')\n",
        "      raise ValueError()\n",
        "\n",
        "  except:\n",
        "    print('IOError while attempting to write the data')\n",
        "    raise IOError()\n",
        "\n",
        "\n",
        "    \n",
        "     \n",
        "\n",
        "try:\n",
        "  daily_rain_data = read_data(input_file_name)\n",
        "  try:\n",
        "    write_data(output_file_name, daily_rain_data)\n",
        "    print (sucess_message)\n",
        "  except:\n",
        "    print('IOError while attempting to write the data')\n",
        "    raise IOError()\n",
        "except:\n",
        "  print('IOError while attempting to read the data')\n",
        "  raise IOError()"
      ],
      "execution_count": 8,
      "outputs": [
        {
          "output_type": "stream",
          "text": [
            "Successfully created annual rain data file\n"
          ],
          "name": "stdout"
        }
      ]
    },
    {
      "cell_type": "markdown",
      "metadata": {
        "id": "Bmvel0jG4cTR"
      },
      "source": [
        " ** מגיש: נדב בנאי\n",
        "ת.ז: 326277910\n",
        "תרגול: אלכסנדרה ליטינצקי**"
      ]
    }
  ]
}