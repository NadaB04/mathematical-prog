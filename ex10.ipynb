{
  "nbformat": 4,
  "nbformat_minor": 0,
  "metadata": {
    "colab": {
      "name": "ex10.ipynb",
      "provenance": []
    },
    "kernelspec": {
      "name": "python3",
      "display_name": "Python 3"
    },
    "language_info": {
      "name": "python"
    }
  },
  "cells": [
    {
      "cell_type": "code",
      "metadata": {
        "colab": {
          "base_uri": "https://localhost:8080/"
        },
        "id": "CRBekIafACmg",
        "outputId": "fb710163-0f41-42e5-9baa-2ffc1bdd8891"
      },
      "source": [
        "def is_palindrome(letters):\n",
        "  if len(letters) == 0:\n",
        "    return True\n",
        "  elif letters[0] == letters[-1]:\n",
        "    return is_palindrome(letters[1:len(letters)-1])\n",
        "  else:\n",
        "    return False\n",
        "\n",
        "\n",
        "\n",
        "\n",
        "\n",
        "assert(is_palindrome(\"\"))\n",
        "assert(is_palindrome(\"9\"))\n",
        "assert(is_palindrome(\"99a99\"))\n",
        "assert(is_palindrome(\"99b\"))"
      ],
      "execution_count": 3,
      "outputs": [
        {
          "output_type": "stream",
          "text": [
            "False\n"
          ],
          "name": "stdout"
        }
      ]
    },
    {
      "cell_type": "code",
      "metadata": {
        "colab": {
          "base_uri": "https://localhost:8080/"
        },
        "id": "OvK9bZ5aD62K",
        "outputId": "3722e3d9-7098-4bb2-9e2c-88dbac3076e6"
      },
      "source": [
        "def recursive_power(k, n):\n",
        "  if n == 1:\n",
        "    return k\n",
        "  else:\n",
        "    return k*recursive_power(k,n-1)\n",
        "\n",
        "\n",
        "def recursive_power2(k, n):\n",
        "  if n == 1:\n",
        "    return k\n",
        "  elif n%2 == 0:\n",
        "    return recursive_power2(k, n/2)*recursive_power2(k, n/2)\n",
        "  else:\n",
        "    return k*recursive_power2(k, int(n/2))*recursive_power2(k, int(n/2))\n",
        "\n"
      ],
      "execution_count": 23,
      "outputs": [
        {
          "output_type": "stream",
          "text": [
            "1532495540865888858358347027150309183618739122183602176\n",
            "2582249878086908589655919172003011874329705792829223512830659356540647622016841194629645353280137831435903171972747493376\n"
          ],
          "name": "stdout"
        }
      ]
    },
    {
      "cell_type": "markdown",
      "metadata": {
        "id": "FBREhjRFKHHU"
      },
      "source": [
        "מגיש: נדב בנאי\n",
        "ת.ז: 326277910\n",
        "קבוצת תרגול: אלכסנדרה ליטינצקי\n",
        "(לא הייתם מספיק מפורטים אז הרשיתי לעצמי להניח תקינות של הקלט)"
      ]
    },
    {
      "cell_type": "code",
      "metadata": {
        "id": "R-OI_1jjEdD6"
      },
      "source": [
        ""
      ],
      "execution_count": null,
      "outputs": []
    }
  ]
}